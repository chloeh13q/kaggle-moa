{
 "cells": [
  {
   "cell_type": "code",
   "execution_count": 1,
   "metadata": {},
   "outputs": [],
   "source": [
    "import pandas as pd\n",
    "import numpy as np\n",
    "from sklearn.decomposition import PCA\n",
    "from sklearn.multioutput import MultiOutputClassifier\n",
    "from sklearn.neighbors import KNeighborsClassifier\n",
    "from sklearn.model_selection import KFold, train_test_split, GridSearchCV\n",
    "from sklearn.metrics import log_loss, f1_score, roc_curve, auc\n",
    "import xgboost as xgb\n",
    "from sklearn.pipeline import Pipeline\n",
    "import matplotlib.pyplot as plt\n",
    "%matplotlib inline"
   ]
  },
  {
   "cell_type": "code",
   "execution_count": 2,
   "metadata": {},
   "outputs": [],
   "source": [
    "def load_csv(features_path, labels_path):\n",
    "    X = pd.read_csv(features_path, index_col=0)\n",
    "    y = pd.read_csv(labels_path, index_col=0)\n",
    "    return X, y"
   ]
  },
  {
   "cell_type": "code",
   "execution_count": 3,
   "metadata": {},
   "outputs": [],
   "source": [
    "np.random.seed(0)\n",
    "X, y = load_csv('data/train_features.csv', 'data/train_targets_scored.csv')\n",
    "g_cols = [col for col in X.columns if col.startswith(\"g-\")]\n",
    "c_cols = [col for col in X.columns if col.startswith(\"c-\")]\n",
    "c_idx = [X.columns.get_loc(c) for c in c_cols]\n",
    "\n",
    "# Label encoder\n",
    "X['cp_type'] = X['cp_type'].map({'ctl_vehicle': 0, 'trt_cp': 1})\n",
    "X['cp_dose'] = X['cp_dose'].map({'D1': 1, 'D2': 2})\n",
    "\n",
    "# Split dataset\n",
    "X_train, X_test, y_train, y_test = train_test_split(X, y)\n",
    "\n",
    "# PCA\n",
    "pca = PCA(n_components=5)\n",
    "X_train_c_pca = pca.fit_transform(X_train.iloc[:, c_idx])\n",
    "X_train = np.concatenate((X_train.drop(c_cols, axis=1, inplace=False).to_numpy(), X_train_c_pca), axis=1)\n",
    "X_test_c_pca = pca.transform(X_test.iloc[:, c_idx])\n",
    "X_test = np.concatenate((X_test.drop(c_cols, axis=1, inplace=False).to_numpy(), X_test_c_pca), axis=1)\n",
    "y_train = y_train.to_numpy()\n",
    "y_test = y_test.to_numpy()"
   ]
  },
  {
   "cell_type": "code",
   "execution_count": 4,
   "metadata": {},
   "outputs": [
    {
     "name": "stdout",
     "output_type": "stream",
     "text": [
      "16467.0\n",
      "(17860, 780)\n",
      "5481.0\n",
      "(5954, 780)\n"
     ]
    }
   ],
   "source": [
    "print(X_train[:, 0].sum())\n",
    "print(X_train.shape)\n",
    "print(X_test[:, 0].sum())\n",
    "print(X_test.shape)"
   ]
  },
  {
   "cell_type": "code",
   "execution_count": 5,
   "metadata": {},
   "outputs": [
    {
     "name": "stdout",
     "output_type": "stream",
     "text": [
      "Pipeline(steps=[('classify',\n",
      "                 MultiOutputClassifier(estimator=XGBClassifier(base_score=None,\n",
      "                                                               booster=None,\n",
      "                                                               colsample_bylevel=None,\n",
      "                                                               colsample_bynode=None,\n",
      "                                                               colsample_bytree=0.6,\n",
      "                                                               eta=0.05,\n",
      "                                                               eval_metric='logloss',\n",
      "                                                               gamma=4,\n",
      "                                                               gpu_id=None,\n",
      "                                                               importance_type='gain',\n",
      "                                                               interaction_constraints=None,\n",
      "                                                               learning_rate=None,\n",
      "                                                               max_delta_step=None,\n",
      "                                                               max_depth=10,\n",
      "                                                               min_child_weight=35,\n",
      "                                                               missing=nan,\n",
      "                                                               monotone_constraints=None,\n",
      "                                                               n_estimators=200,\n",
      "                                                               n_jobs=None,\n",
      "                                                               num_parallel_tree=None,\n",
      "                                                               random_state=0,\n",
      "                                                               reg_alpha=None,\n",
      "                                                               reg_lambda=None,\n",
      "                                                               scale_pos_weight=None,\n",
      "                                                               subsample=None,\n",
      "                                                               tree_method=None,\n",
      "                                                               validate_parameters=None,\n",
      "                                                               verbosity=1)))])\n"
     ]
    }
   ],
   "source": [
    "# params = {'objective':'binary:logistic', \n",
    "# #           'n_estimators': 2, \n",
    "#           'random_state': 0,\n",
    "#           'eval_metric': 'logloss',\n",
    "#           'verbosity': 1}\n",
    "\n",
    "params = {'objective':'binary:logistic', # must-haves\n",
    "          'random_state': 0,\n",
    "          'eval_metric': 'logloss',\n",
    "          'verbosity': 1,\n",
    "          # high-impact hyperparameters\n",
    "          'eta': 0.05, # Typical final values to be used: 0.01-0.2\n",
    "          'max_depth': 10, # Typical values: 3-10\n",
    "          'min_child_weight': 35,\n",
    "          # other tunable hyperparameters\n",
    "          'gamma': 4,\n",
    "          'n_estimators': 200, \n",
    "          'colsample_bytree': 0.6, # Typical values: 0.5-1\n",
    "#           'max_delta_step': 2,\n",
    "          }\n",
    "model = MultiOutputClassifier(xgb.XGBClassifier(**params))\n",
    "clf = Pipeline([('classify', model)])\n",
    "print(clf)"
   ]
  },
  {
   "cell_type": "code",
   "execution_count": 6,
   "metadata": {},
   "outputs": [
    {
     "data": {
      "text/plain": [
       "Pipeline(steps=[('classify',\n",
       "                 MultiOutputClassifier(estimator=XGBClassifier(base_score=None,\n",
       "                                                               booster=None,\n",
       "                                                               colsample_bylevel=None,\n",
       "                                                               colsample_bynode=None,\n",
       "                                                               colsample_bytree=0.6,\n",
       "                                                               eta=0.05,\n",
       "                                                               eval_metric='logloss',\n",
       "                                                               gamma=4,\n",
       "                                                               gpu_id=None,\n",
       "                                                               importance_type='gain',\n",
       "                                                               interaction_constraints=None,\n",
       "                                                               learning_rate=None,\n",
       "                                                               max_delta_step=None,\n",
       "                                                               max_depth=10,\n",
       "                                                               min_child_weight=35,\n",
       "                                                               missing=nan,\n",
       "                                                               monotone_constraints=None,\n",
       "                                                               n_estimators=200,\n",
       "                                                               n_jobs=None,\n",
       "                                                               num_parallel_tree=None,\n",
       "                                                               random_state=0,\n",
       "                                                               reg_alpha=None,\n",
       "                                                               reg_lambda=None,\n",
       "                                                               scale_pos_weight=None,\n",
       "                                                               subsample=None,\n",
       "                                                               tree_method=None,\n",
       "                                                               validate_parameters=None,\n",
       "                                                               verbosity=1)))])"
      ]
     },
     "execution_count": 6,
     "metadata": {},
     "output_type": "execute_result"
    }
   ],
   "source": [
    "clf.fit(X_train, y_train)"
   ]
  },
  {
   "cell_type": "code",
   "execution_count": 7,
   "metadata": {},
   "outputs": [
    {
     "name": "stdout",
     "output_type": "stream",
     "text": [
      "Predictions: (5954, 206)\n",
      "Labels: (5954, 206)\n",
      "Log loss (raw): 2.661533723882192\n",
      "Log loss (adjusted): 2.6615337149424962\n",
      "# of positive predictions: 834 / 1226524\n",
      "F1: 0.3118831425187525\n"
     ]
    }
   ],
   "source": [
    "y_hat = clf.predict_proba(X_test)\n",
    "predictions = np.array(y_hat)[:, :, 1].T\n",
    "y_pred = predictions.copy()\n",
    "y_pred[X_test[:, 0] == 0] = 0\n",
    "y_pred[y_pred > 0.5] = 1\n",
    "y_pred[y_pred <= 0.5] = 0\n",
    "\n",
    "print(f'Predictions: {predictions.shape}')\n",
    "print(f'Labels: {y_test.shape}')\n",
    "print(f'Log loss (raw): {log_loss(y_test, predictions)}')\n",
    "print(f'Log loss (adjusted): {log_loss(y_test[X_test[:, 0] == 1], predictions[X_test[:, 0] == 1], normalize=False) / y_test.shape[0]}')\n",
    "print(f'# of positive predictions: {len(predictions[np.where(predictions > 0.5)])} / {predictions.size}')\n",
    "print(f'F1: {f1_score(y_test.flatten(), y_pred.flatten())}')"
   ]
  },
  {
   "cell_type": "code",
   "execution_count": 13,
   "metadata": {},
   "outputs": [
    {
     "name": "stderr",
     "output_type": "stream",
     "text": [
      "/Users/chloe/opt/anaconda3/envs/ml/lib/python3.8/site-packages/sklearn/metrics/_classification.py:1221: UndefinedMetricWarning: Recall is ill-defined and being set to 0.0 due to no true samples. Use `zero_division` parameter to control this behavior.\n",
      "  _warn_prf(average, modifier, msg_start, len(result))\n",
      "/Users/chloe/opt/anaconda3/envs/ml/lib/python3.8/site-packages/sklearn/metrics/_classification.py:1464: UndefinedMetricWarning: F-score is ill-defined and being set to 0.0 due to no true nor predicted samples. Use `zero_division` parameter to control this behavior.\n",
      "  _warn_prf(\n",
      "/Users/chloe/opt/anaconda3/envs/ml/lib/python3.8/site-packages/sklearn/metrics/_classification.py:1221: UndefinedMetricWarning: Precision is ill-defined and being set to 0.0 due to no predicted samples. Use `zero_division` parameter to control this behavior.\n",
      "  _warn_prf(average, modifier, msg_start, len(result))\n"
     ]
    },
    {
     "name": "stdout",
     "output_type": "stream",
     "text": [
      "Positive predictions by row\n",
      "Micro-average quality numbers\n",
      "Threshold: 0.01 Precision: 0.0475, Recall: 0.2876, F1-measure: 0.0770, Average positive predicted: 9.6876\n",
      "Positive predictions by row\n",
      "Micro-average quality numbers\n",
      "Threshold: 0.02 Precision: 0.0891, Recall: 0.1969, F1-measure: 0.1133, Average positive predicted: 3.2014\n",
      "Positive predictions by row\n",
      "Micro-average quality numbers\n",
      "Threshold: 0.03 Precision: 0.1058, Recall: 0.1586, F1-measure: 0.1196, Average positive predicted: 1.4033\n",
      "Positive predictions by row\n",
      "Micro-average quality numbers\n",
      "Threshold: 0.04 Precision: 0.1133, Recall: 0.1428, F1-measure: 0.1210, Average positive predicted: 0.8050\n",
      "Positive predictions by row\n",
      "Micro-average quality numbers\n",
      "Threshold: 0.05 Precision: 0.1155, Recall: 0.1355, F1-measure: 0.1204, Average positive predicted: 0.5499\n",
      "Positive predictions by row\n",
      "Micro-average quality numbers\n",
      "Threshold: 0.06 Precision: 0.1171, Recall: 0.1310, F1-measure: 0.1202, Average positive predicted: 0.4375\n"
     ]
    }
   ],
   "source": [
    "from sklearn import metrics\n",
    "\n",
    "def get_prec_recall_f1(pred):\n",
    "    thresholds = [0.01, 0.02, 0.03, 0.04, 0.05, 0.06]\n",
    "    for val in thresholds:\n",
    "        predictions=pred.copy()\n",
    "        predictions[predictions>=val]=1\n",
    "        predictions[predictions<val]=0\n",
    "        # print(predictions)\n",
    "        correct = 0\n",
    "        wrong = 0\n",
    "        f1 = 0 # 2 * (precision * recall) / (precision + recall)\n",
    "        precision = 0 # tp / (tp + fp)\n",
    "        recall = 0 # tp / (tp + fn)\n",
    "        tp_fp = []\n",
    "        for i in range(len(predictions)):\n",
    "            tp_fp.append(sum(predictions[i]))\n",
    "            f1 += metrics.f1_score(y_test[i], predictions[i], average = 'binary')\n",
    "            precision += metrics.precision_score(y_test[i], predictions[i], average = 'binary')\n",
    "            recall += metrics.recall_score(y_test[i], predictions[i], average = 'binary')\n",
    "\n",
    "        f1 /= len(predictions)\n",
    "        precision /= len(predictions)\n",
    "        recall /= len(predictions)\n",
    "        average_pos_predicted = sum(tp_fp) / len(predictions)\n",
    "        print(\"Positive predictions by row\")\n",
    "        # print(tp_fp)\n",
    "        print(\"Micro-average quality numbers\")\n",
    "        print(\"Threshold: {} Precision: {:.4f}, Recall: {:.4f}, F1-measure: {:.4f}, Average positive predicted: {:.4f}\".format(val, precision, recall, f1, average_pos_predicted))\n",
    "get_prec_recall_f1(predictions)"
   ]
  },
  {
   "cell_type": "code",
   "execution_count": 8,
   "metadata": {},
   "outputs": [],
   "source": [
    "# Compute ROC curve and ROC area for each class\n",
    "# fpr = dict()\n",
    "# tpr = dict()\n",
    "# roc_auc = dict()\n",
    "\n",
    "fpr, tpr, _ = roc_curve(y_test.flatten(), predictions.flatten())\n",
    "roc_auc = auc(fpr, tpr)\n",
    "\n",
    "# Compute micro-average ROC curve and ROC area\n",
    "# fpr[\"micro\"], tpr[\"micro\"], _ = roc_curve(y_test.ravel(), predictions.ravel())\n",
    "# roc_auc[\"micro\"] = auc(fpr[\"micro\"], tpr[\"micro\"])"
   ]
  },
  {
   "cell_type": "code",
   "execution_count": 10,
   "metadata": {},
   "outputs": [
    {
     "data": {
      "image/png": "[encoded data removed]",
      "text/plain": [
       "<Figure size 900x600 with 1 Axes>"
      ]
     },
     "metadata": {
      "needs_background": "light"
     },
     "output_type": "display_data"
    }
   ],
   "source": [
    "plt.figure(dpi=150)\n",
    "lw = 2\n",
    "plt.plot(fpr, tpr, color='darkorange',\n",
    "         lw=lw, label='ROC curve (area = %0.2f)' % roc_auc)\n",
    "plt.plot([0, 1], [0, 1], color='navy', lw=lw, linestyle='--')\n",
    "plt.xlim([0.0, 1.0])\n",
    "plt.ylim([0.0, 1.05])\n",
    "plt.xlabel('False Positive Rate')\n",
    "plt.ylabel('True Positive Rate')\n",
    "plt.title('Receiver operating characteristic (XGBoost, tuned)')\n",
    "plt.legend(loc=\"lower right\")\n",
    "plt.savefig('roc_xgb_tuned.png', dpi=150)"
   ]
  },
  {
   "cell_type": "code",
   "execution_count": 17,
   "metadata": {},
   "outputs": [
    {
     "name": "stdout",
     "output_type": "stream",
     "text": [
      "Predictions: (5954, 206)\n",
      "Labels: (5954, 206)\n",
      "Log loss (raw): 2.748606659825106\n",
      "Log loss (adjusted): 2.748606656342579\n",
      "# of positive predictions: 919 / 1226524\n",
      "F1: 0.33469229275868767\n"
     ]
    }
   ],
   "source": [
    "y_hat = clf.predict_proba(X_test)\n",
    "predictions = np.array(y_hat)[:, :, 1].T\n",
    "y_pred = predictions.copy()\n",
    "y_pred[X_test[:, 0] == 0] = 0\n",
    "y_pred[y_pred > 0.5] = 1\n",
    "y_pred[y_pred <= 0.5] = 0\n",
    "\n",
    "print(f'Predictions: {predictions.shape}')\n",
    "print(f'Labels: {y_test.shape}')\n",
    "print(f'Log loss (raw): {log_loss(y_test, predictions)}')\n",
    "print(f'Log loss (adjusted): {log_loss(y_test[X_test[:, 0] == 1], predictions[X_test[:, 0] == 1], normalize=False) / y_test.shape[0]}')\n",
    "print(f'# of positive predictions: {len(predictions[np.where(predictions > 0.5)])} / {predictions.size}')\n",
    "print(f'F1: {f1_score(y_test.flatten(), y_pred.flatten())}')"
   ]
  },
  {
   "cell_type": "code",
   "execution_count": 28,
   "metadata": {},
   "outputs": [],
   "source": [
    "# Compute ROC curve and ROC area for each class\n",
    "# fpr = dict()\n",
    "# tpr = dict()\n",
    "# roc_auc = dict()\n",
    "\n",
    "fpr, tpr, _ = roc_curve(y_test.flatten(), predictions.flatten())\n",
    "roc_auc = auc(fpr, tpr)\n",
    "\n",
    "# Compute micro-average ROC curve and ROC area\n",
    "# fpr[\"micro\"], tpr[\"micro\"], _ = roc_curve(y_test.ravel(), predictions.ravel())\n",
    "# roc_auc[\"micro\"] = auc(fpr[\"micro\"], tpr[\"micro\"])"
   ]
  },
  {
   "cell_type": "code",
   "execution_count": 32,
   "metadata": {},
   "outputs": [
    {
     "data": {
      "image/png": "[encoded data removed]",
      "text/plain": [
       "<Figure size 900x600 with 1 Axes>"
      ]
     },
     "metadata": {
      "needs_background": "light"
     },
     "output_type": "display_data"
    }
   ],
   "source": [
    "plt.figure(dpi=150)\n",
    "lw = 2\n",
    "plt.plot(fpr, tpr, color='darkorange',\n",
    "         lw=lw, label='ROC curve (area = %0.2f)' % roc_auc)\n",
    "plt.plot([0, 1], [0, 1], color='navy', lw=lw, linestyle='--')\n",
    "plt.xlim([0.0, 1.0])\n",
    "plt.ylim([0.0, 1.05])\n",
    "plt.xlabel('False Positive Rate')\n",
    "plt.ylabel('True Positive Rate')\n",
    "plt.title('Receiver operating characteristic (XGBoost, default)')\n",
    "plt.legend(loc=\"lower right\")\n",
    "plt.savefig('roc_xgb_default.png', dpi=150)"
   ]
  },
  {
   "cell_type": "code",
   "execution_count": 7,
   "metadata": {},
   "outputs": [
    {
     "name": "stdout",
     "output_type": "stream",
     "text": [
      "Predictions: (5954, 206)\n",
      "Labels: (5954, 206)\n",
      "Log loss (raw): 2.748606659825106\n",
      "Log loss (adjusted): 2.748606656342579\n",
      "# of positive predictions: 919 / 1226524\n"
     ]
    }
   ],
   "source": [
    "y_hat = clf.predict_proba(X_test)\n",
    "predictions = np.array(y_hat)[:, :, 1].T\n",
    "print(f'Predictions: {predictions.shape}')\n",
    "print(f'Labels: {y_test.shape}')\n",
    "print(f'Log loss (raw): {log_loss(y_test, predictions)}')\n",
    "print(f'Log loss (adjusted): {log_loss(y_test[X_test[:, 0] == 1], predictions[X_test[:, 0] == 1], normalize=False) / y_test.shape[0]}')\n",
    "print(f'# of positive predictions: {len(predictions[np.where(predictions > 0.5)])} / {predictions.size}')\n",
    "print(f'F1: f1_score(y_train.flatten(), predictions.flatten())')"
   ]
  },
  {
   "cell_type": "code",
   "execution_count": 7,
   "metadata": {},
   "outputs": [
    {
     "name": "stdout",
     "output_type": "stream",
     "text": [
      "Predictions: (5954, 206)\n",
      "Labels: (5954, 206)\n",
      "Log loss (raw): 3.64627833713971\n",
      "Log loss (adjusted): 3.6462781370827364\n",
      "# of positive predictions: 877 / 1226524\n"
     ]
    }
   ],
   "source": [
    "y_hat = clf.predict_proba(X_test)\n",
    "predictions = np.array(y_hat)[:, :, 1].T\n",
    "print(f'Predictions: {predictions.shape}')\n",
    "print(f'Labels: {y_test.shape}')\n",
    "print(f'Log loss (raw): {log_loss(y_test, predictions)}')\n",
    "print(f'Log loss (adjusted): {log_loss(y_test[X_test[:, 0] == 1], predictions[X_test[:, 0] == 1], normalize=False) / y_test.shape[0]}')\n",
    "print(f'# of positive predictions: {len(predictions[np.where(predictions > 0.5)])} / {predictions.size}')"
   ]
  },
  {
   "cell_type": "code",
   "execution_count": 16,
   "metadata": {},
   "outputs": [
    {
     "name": "stdout",
     "output_type": "stream",
     "text": [
      "Predictions: (5954, 206)\n",
      "Labels: (5954, 206)\n",
      "Log loss (raw): 3.6463898706644384\n",
      "Log loss (adjusted): 3.6463898222118885\n",
      "# of positive predictions: 1225720 / 1226524\n"
     ]
    }
   ],
   "source": [
    "# random seed 2020\n",
    "y_hat = clf.predict_proba(X_test)\n",
    "predictions = np.array(y_hat)[:, :, 1].T\n",
    "print(f'Predictions: {predictions.shape}')\n",
    "print(f'Labels: {y_test.shape}')\n",
    "print(f'Log loss (raw): {log_loss(y_test, predictions)}')\n",
    "print(f'Log loss (adjusted): {log_loss(y_test[X_test[:, 0] == 1], predictions[X_test[:, 0] == 1], normalize=False) / y_test.shape[0]}')\n",
    "print(f'# of positive predictions: {len(predictions[np.where(predictions > 0.5)])} / {predictions.size}')"
   ]
  },
  {
   "cell_type": "code",
   "execution_count": 8,
   "metadata": {},
   "outputs": [],
   "source": [
    "def get_log_loss(predictions, true_labels):\n",
    "    N, M = predictions.shape # N is number of sig_ids, M is number of classes\n",
    "    res = 0\n",
    "    for m in range(M):\n",
    "        sum_sigids = 0\n",
    "        clipped = np.clip(predictions[:, m], 1e-15, 0.999)\n",
    "    for i in range(N):\n",
    "        sum_sigids += true_labels[i][m] * np.log(clipped[i]) + (1 - true_labels[i][m]) * np.log(1 - clipped[i])\n",
    "    sum_sigids /= N\n",
    "    res += sum_sigids\n",
    "    # res += metrics.log_loss(true_labels[:, m], clipped, labels=[0,1])\n",
    "    # print(res)\n",
    "    res = - res / M\n",
    "    print(res)\n",
    "    return res"
   ]
  },
  {
   "cell_type": "code",
   "execution_count": 9,
   "metadata": {},
   "outputs": [
    {
     "name": "stdout",
     "output_type": "stream",
     "text": [
      "7.927616584388292e-05\n"
     ]
    },
    {
     "data": {
      "text/plain": [
       "7.927616584388292e-05"
      ]
     },
     "execution_count": 9,
     "metadata": {},
     "output_type": "execute_result"
    }
   ],
   "source": [
    "get_log_loss(predictions, y_test)"
   ]
  },
  {
   "cell_type": "markdown",
   "metadata": {},
   "source": [
    "## Logloss\n",
    "- n_estimators = 2\n",
    "    - Original: 3.641420941165441\n",
    "    - Only train on treatment samples: 3.928871252985628\n",
    "    - Original with PCA: 3.6462781370827364\n",
    "- n_estimators = 100\n",
    "    - Original with PCA: 2.748606656342579"
   ]
  },
  {
   "cell_type": "code",
   "execution_count": 26,
   "metadata": {},
   "outputs": [
    {
     "data": {
      "text/plain": [
       "3.641420941165441"
      ]
     },
     "execution_count": 26,
     "metadata": {},
     "output_type": "execute_result"
    }
   ],
   "source": [
    "log_loss(y_test, predictions)"
   ]
  },
  {
   "cell_type": "code",
   "execution_count": 34,
   "metadata": {},
   "outputs": [
    {
     "name": "stdout",
     "output_type": "stream",
     "text": [
      "(21948, 874)\n",
      "(21948, 206)\n"
     ]
    }
   ],
   "source": [
    "X, y = load_csv('data/train_features.csv', 'data/train_targets_scored.csv')\n",
    "y = y[X['cp_type'] == 'trt_cp']\n",
    "X = X[X['cp_type'] == 'trt_cp'].iloc[:, 1:]\n",
    "X['cp_dose'] = X['cp_dose'].map({'D1': 1, 'D2': 2})\n",
    "X = X.to_numpy()\n",
    "y = y.to_numpy()\n",
    "print(X.shape)\n",
    "print(y.shape)\n",
    "X_train, X_test, y_train, y_test = train_test_split(X, y)"
   ]
  },
  {
   "cell_type": "code",
   "execution_count": 35,
   "metadata": {},
   "outputs": [
    {
     "name": "stdout",
     "output_type": "stream",
     "text": [
      "Pipeline(steps=[('classify',\n",
      "                 MultiOutputClassifier(estimator=XGBClassifier(base_score=None,\n",
      "                                                               booster=None,\n",
      "                                                               colsample_bylevel=None,\n",
      "                                                               colsample_bynode=None,\n",
      "                                                               colsample_bytree=None,\n",
      "                                                               eval_metric='logloss',\n",
      "                                                               gamma=None,\n",
      "                                                               gpu_id=None,\n",
      "                                                               importance_type='gain',\n",
      "                                                               interaction_constraints=None,\n",
      "                                                               learning_rate=None,\n",
      "                                                               max_delta_step=None,\n",
      "                                                               max_depth=None,\n",
      "                                                               min_child_weight=None,\n",
      "                                                               missing=nan,\n",
      "                                                               monotone_constraints=None,\n",
      "                                                               n_estimators=2,\n",
      "                                                               n_jobs=None,\n",
      "                                                               num_parallel_tree=None,\n",
      "                                                               random_state=0,\n",
      "                                                               reg_alpha=None,\n",
      "                                                               reg_lambda=None,\n",
      "                                                               scale_pos_weight=None,\n",
      "                                                               subsample=None,\n",
      "                                                               tree_method=None,\n",
      "                                                               validate_parameters=None,\n",
      "                                                               verbosity=1)))])\n"
     ]
    }
   ],
   "source": [
    "params = {'objective':'binary:logistic', \n",
    "          'n_estimators':2, \n",
    "          'random_state': 0,\n",
    "          'eval_metric': 'logloss',\n",
    "          'verbosity': 1}\n",
    "model = MultiOutputClassifier(xgb.XGBClassifier(**params))\n",
    "clf = Pipeline([('classify', model)])\n",
    "print(clf)"
   ]
  },
  {
   "cell_type": "code",
   "execution_count": 36,
   "metadata": {},
   "outputs": [
    {
     "data": {
      "text/plain": [
       "Pipeline(steps=[('classify',\n",
       "                 MultiOutputClassifier(estimator=XGBClassifier(base_score=None,\n",
       "                                                               booster=None,\n",
       "                                                               colsample_bylevel=None,\n",
       "                                                               colsample_bynode=None,\n",
       "                                                               colsample_bytree=None,\n",
       "                                                               eval_metric='logloss',\n",
       "                                                               gamma=None,\n",
       "                                                               gpu_id=None,\n",
       "                                                               importance_type='gain',\n",
       "                                                               interaction_constraints=None,\n",
       "                                                               learning_rate=None,\n",
       "                                                               max_delta_step=None,\n",
       "                                                               max_depth=None,\n",
       "                                                               min_child_weight=None,\n",
       "                                                               missing=nan,\n",
       "                                                               monotone_constraints=None,\n",
       "                                                               n_estimators=2,\n",
       "                                                               n_jobs=None,\n",
       "                                                               num_parallel_tree=None,\n",
       "                                                               random_state=0,\n",
       "                                                               reg_alpha=None,\n",
       "                                                               reg_lambda=None,\n",
       "                                                               scale_pos_weight=None,\n",
       "                                                               subsample=None,\n",
       "                                                               tree_method=None,\n",
       "                                                               validate_parameters=None,\n",
       "                                                               verbosity=1)))])"
      ]
     },
     "execution_count": 36,
     "metadata": {},
     "output_type": "execute_result"
    }
   ],
   "source": [
    "clf.fit(X_train, y_train)"
   ]
  },
  {
   "cell_type": "code",
   "execution_count": 37,
   "metadata": {},
   "outputs": [],
   "source": [
    "y_hat = clf.predict_proba(X_test)"
   ]
  },
  {
   "cell_type": "code",
   "execution_count": 38,
   "metadata": {},
   "outputs": [
    {
     "data": {
      "text/plain": [
       "3.928871252985628"
      ]
     },
     "execution_count": 38,
     "metadata": {},
     "output_type": "execute_result"
    }
   ],
   "source": [
    "predictions = np.array(y_hat)[:, :, 1].T\n",
    "log_loss(y_test, predictions)"
   ]
  },
  {
   "cell_type": "code",
   "execution_count": 43,
   "metadata": {},
   "outputs": [
    {
     "data": {
      "text/plain": [
       "1129459"
      ]
     },
     "execution_count": 43,
     "metadata": {},
     "output_type": "execute_result"
    }
   ],
   "source": [
    "len(predictions[np.where(predictions < 0.5)])"
   ]
  },
  {
   "cell_type": "code",
   "execution_count": 45,
   "metadata": {},
   "outputs": [
    {
     "data": {
      "text/plain": [
       "1130322"
      ]
     },
     "execution_count": 45,
     "metadata": {},
     "output_type": "execute_result"
    }
   ],
   "source": [
    "predictions.size"
   ]
  },
  {
   "cell_type": "markdown",
   "metadata": {},
   "source": [
    "## Hyperparameter tuning\n",
    "**PARAMETERS WITH HIGH TUNABLE VALUE** (greatest impact on goal metric)\n",
    "- eta [0, 1]\n",
    "- max_depth [0, ∞)\n",
    "- num_boost_round [1, ∞)\n",
    "- min_child_weight [1, ∞)\n",
    "- lambda (-∞, ∞)\n",
    "- alpha (-∞, ∞)\n",
    "\n",
    "**OTHER PARAMETERS**\n",
    "- gamma [0, ∞)\n",
    "- max_delta_step [0, ∞)\n",
    "- subsample [0, 1]\n",
    "- col_sample_bytree [0, 1]\n",
    "- col_sample_bylevel [0, 1]\n",
    "- n_estimators: The number of trees in the Random Forest depends on the number of rows in the data set."
   ]
  },
  {
   "cell_type": "code",
   "execution_count": null,
   "metadata": {},
   "outputs": [],
   "source": [
    "params = {'objective':'binary:logistic', \n",
    "          'warm_start': True,\n",
    "          'n_estimators': 150,\n",
    "          'random_state': 0,\n",
    "          'eval_metric': 'logloss',\n",
    "          'verbosity': 1}\n",
    "model = MultiOutputClassifier(xgb.XGBClassifier(**params))\n",
    "clf = Pipeline([('classify', model)])\n",
    "print(clf)"
   ]
  },
  {
   "cell_type": "code",
   "execution_count": 10,
   "metadata": {},
   "outputs": [
    {
     "name": "stdout",
     "output_type": "stream",
     "text": [
      "GridSearchCV(estimator=Pipeline(steps=[('xgb',\n",
      "                                        MultiOutputClassifier(estimator=XGBClassifier(base_score=None,\n",
      "                                                                                      booster=None,\n",
      "                                                                                      colsample_bylevel=None,\n",
      "                                                                                      colsample_bynode=None,\n",
      "                                                                                      colsample_bytree=None,\n",
      "                                                                                      eval_metric='logloss',\n",
      "                                                                                      gamma=None,\n",
      "                                                                                      gpu_id=None,\n",
      "                                                                                      importance_type='gain',\n",
      "                                                                                      interaction_constraints=None,\n",
      "                                                                                      learning_rate=None,\n",
      "                                                                                      max_delta_step=None,\n",
      "                                                                                      max_depth=None,\n",
      "                                                                                      min_child_w...\n",
      "                                                                                      monotone_constraints=None,\n",
      "                                                                                      n_estimators=100,\n",
      "                                                                                      n_jobs=None,\n",
      "                                                                                      num_parallel_tree=None,\n",
      "                                                                                      random_state=0,\n",
      "                                                                                      reg_alpha=None,\n",
      "                                                                                      reg_lambda=None,\n",
      "                                                                                      scale_pos_weight=1,\n",
      "                                                                                      subsample=None,\n",
      "                                                                                      tree_method=None,\n",
      "                                                                                      validate_parameters=None,\n",
      "                                                                                      verbosity=1)))]),\n",
      "             param_grid={'xgb__estimator__eta': [0.01, 0.1, 0.2],\n",
      "                         'xgb__estimator__max_depth': [4, 6, 10],\n",
      "                         'xgb__estimator__n_estimators': range(100, 400, 100)})\n"
     ]
    }
   ],
   "source": [
    "params = {'min_child_weight': 1,\n",
    "          'objective':'binary:logistic',\n",
    "          'random_state': 0,\n",
    "          'eval_metric': 'logloss',\n",
    "          'verbosity': 1,\n",
    "          'scale_pos_weight': 1,  # because of high class imbalance\n",
    "}\n",
    "grid_params = {'xgb__estimator__eta': [0.01, 0.1, 0.2],\n",
    "               'xgb__estimator__max_depth': [4, 6, 10],\n",
    "#                'xgb__estimator__gamma': [0, 0.05, 0.1, 0.3],\n",
    "#                'xgb__estimator__max_delta_step': [0, 0.5, 1, 2], \n",
    "#                'xgb__estimator__colsample_bytree': [0.5, 0.7, 0.9, 1],\n",
    "#                'xgb__estimator__subsample': [0.5, 0.7, 0.9],\n",
    "               'xgb__estimator__n_estimators': range(100, 400, 100)\n",
    "               }\n",
    "model = MultiOutputClassifier(xgb.XGBClassifier(**params))\n",
    "xgb_pipeline = Pipeline([('xgb', model)])\n",
    "clf = GridSearchCV(xgb_pipeline, grid_params)\n",
    "print(clf)"
   ]
  },
  {
   "cell_type": "code",
   "execution_count": 12,
   "metadata": {},
   "outputs": [],
   "source": [
    "clf.fit(X_train, y_train)"
   ]
  },
  {
   "cell_type": "code",
   "execution_count": null,
   "metadata": {},
   "outputs": [],
   "source": [
    "params = {'objective':'binary:logistic', # must-haves\n",
    "          'random_state': 0,\n",
    "          'eval_metric': 'logloss',\n",
    "          'verbosity': 1,\n",
    "          # high-impact hyperparameters\n",
    "          'eta': 0.05, # Typical final values to be used: 0.01-0.2\n",
    "          'max_depth': 10, # Typical values: 3-10\n",
    "          'min_child_weight': 35,\n",
    "          # other tunable hyperparameters\n",
    "          'gamma': 4,\n",
    "          'n_estimators': 200, \n",
    "          'colsample_bytree': 0.6, # Typical values: 0.5-1\n",
    "#           'max_delta_step': 2,\n",
    "          }"
   ]
  }
 ],
 "metadata": {
  "kernelspec": {
   "display_name": "Python 3",
   "language": "python",
   "name": "python3"
  },
  "language_info": {
   "codemirror_mode": {
    "name": "ipython",
    "version": 3
   },
   "file_extension": ".py",
   "mimetype": "text/x-python",
   "name": "python",
   "nbconvert_exporter": "python",
   "pygments_lexer": "ipython3",
   "version": "3.8.5"
  }
 },
 "nbformat": 4,
 "nbformat_minor": 4
}
